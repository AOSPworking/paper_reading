{
 "cells": [
  {
   "cell_type": "markdown",
   "id": "ae237bd9-d6f2-4120-a86a-ebce012bded0",
   "metadata": {},
   "source": [
    "# Program Analysis via Graph Reachability"
   ]
  },
  {
   "cell_type": "markdown",
   "id": "d008ea7f-8ca7-4f8c-a4e5-0fa9f9816990",
   "metadata": {},
   "source": [
    "## Introduction\n",
    "\n",
    "程序分析是为了不运行就 “确认” 一些信息。在数据流分析当中，分析结果以 `point` 有关，每一个 `point` 都说明了在那个对应位置的可达定义 / 存活变量情况。\n",
    "\n",
    "程序分析框架使用迭代的方法，寻找满足方程组的解。然后这篇说会以 “程序分析是图 / 上下文无关语言可达性问题” 为基础做一个分析框架。\n",
    "\n",
    "文章还陈述了一下使用 “图可达性” 来做程序分析的好处：\n",
    "\n",
    "* 图是个好用的数据结构，单源可达问题的时间复杂度与点边数量线性相关；CFL 的可达问题与节点三次方相关；\n",
    "* CFL 可达问题可以像处理单源可达问题一样。可以获得更快的速度。"
   ]
  },
  {
   "cell_type": "markdown",
   "id": "a20eb926-f3f6-4fd7-8e6a-3a6510095c9a",
   "metadata": {},
   "source": [
    "## CFL Reachability Problems\n",
    "\n",
    "CFL 可达问题不是一般的可达问题。\n",
    "\n",
    "这里首先定义了一个 `L-path` 问题，这里的 $L$ 指的是一个 `CFL` 在字符集上的集合，也就是可能的字符串 / 可能的输入。`L-path` 就是在整个 $G$ 中可以表示 $L$ 的路径。\n",
    "\n",
    "论文 2.1 里面给了一个图，那个从 $s \\to t$ 的路径就是 $\"[(e[])eee[e]]\"$ 的 `L-path`。\n",
    "\n",
    "此后，论文给出了 `all-pairs L-path` 问题的定义。然后这个实际上就和要做的东西有些相关了。相较于 “单源可达”（给定一个源，找到源可达的所有节点） / “单目标可达”（给定一个目标，找到所有可达该目标的源）问题，这 `all-pairs` 就是找到图中 **所有** 能够表示 $L$ 的路径。\n",
    "\n",
    "论文中提出一般的图可达问题都可以通过 “给边标上 $e$，然后把 $L$ 定义为正则语言 $e*$” 转化成 `CFL` 的可达问题。比如 **图的转移闭包问题** 就可以表示成 `all-pairs e*`(因为转移前是图中的一系列点，要看 $n$ 步之后走到了哪里，这个终止状态又是一系列点)。再比如 `CFL` 识别问题，为了判断一个字符串是否属于给定的文法，该问题等同于：“给定一个初始状态，能否存在一个长度为 |str| 且终态满足要求的路径”。"
   ]
  },
  {
   "cell_type": "markdown",
   "id": "30b4028b-d915-487a-960a-5c5b24e2cd22",
   "metadata": {},
   "source": [
    "## Note\n",
    "\n",
    "| English | Chinese |\n",
    "|-|-|\n",
    "| amenable | 经得起检验的 |\n",
    "| ascertain | 确定 |\n",
    "| elaborate | 复杂的 |\n",
    "| generalization | 一般情况 |\n",
    "| vantage | 有利的 |\n",
    "| asymptotic | 渐进的 |"
   ]
  }
 ],
 "metadata": {
  "kernelspec": {
   "display_name": "Python 3 (ipykernel)",
   "language": "python",
   "name": "python3"
  },
  "language_info": {
   "codemirror_mode": {
    "name": "ipython",
    "version": 3
   },
   "file_extension": ".py",
   "mimetype": "text/x-python",
   "name": "python",
   "nbconvert_exporter": "python",
   "pygments_lexer": "ipython3",
   "version": "3.9.1"
  }
 },
 "nbformat": 4,
 "nbformat_minor": 5
}
