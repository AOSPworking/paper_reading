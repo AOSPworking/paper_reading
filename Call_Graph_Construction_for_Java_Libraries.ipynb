{
 "cells": [
  {
   "cell_type": "markdown",
   "id": "83150032-970c-4d71-9e3d-dfa47a08ef0a",
   "metadata": {},
   "source": [
    "# Java 库的调用图构建\n",
    "\n",
    "原文链接在 [这里](\n",
    "https://benhermann.eu/publications/reh+16-callgraphs.pdf)\n",
    "\n",
    "相较于肯定有入口的应用，库一般是没入口的。所以：\n",
    "\n",
    "```english\n",
    "Currently, the gold standard for constructing call graphs for libraries is to use a standard algorithm, such as CHA, RTA, VTA and to consider all non-private method as entry points.\n",
    "```\n",
    "\n",
    "每个 public 的方法都看作可能的 entry point。文章提出了两种过往算法未考虑到的事：\n",
    "\n",
    "1. lib 中有很多 interface 和 base class。用户一般需要 implements interface 或 extends base class，这种关系存在表达欠缺；\n",
    "2. lib 中还有许多 private implementation，缺乏对 private 的考察会产生 spurious edges。"
   ]
  },
  {
   "cell_type": "markdown",
   "id": "24d2c19f-8127-4ab5-8cb5-3c094393928b",
   "metadata": {},
   "source": [
    "## 1. 导语\n",
    "\n",
    "文中给了两个概念，分别是 OPA 和 CPA。作者自己定义的：\n",
    "\n",
    "* OPA：open-package assumption，表示 non-private 的 class / filed / method 可以被 accessed；non-final 的 class 可以被 extends；non-final 的 method 可以被 override。\n",
    "* CPA：close-package assumption，表示在 library 中，无法被 public API accessed 的 class / field / method 都是属于 library 的；只有用户能用的才是 public API。\n",
    "\n",
    "其实看到这里也能猜到后面在说什么了，无非是利用 CPA 概念，将要分析的 library 中的 “部分 public method” 从 CHA 算法中剔除，不视其为入口，以此提高 CHA 的准确性和速度。\n",
    "\n",
    "那我觉得对我来说还不是需要的东西。\n",
    "\n",
    "暂时来看的话，只要把 CHA 给调起来，仅仅是 CHA 就够了吗？"
   ]
  }
 ],
 "metadata": {
  "kernelspec": {
   "display_name": "Python 3 (ipykernel)",
   "language": "python",
   "name": "python3"
  },
  "language_info": {
   "codemirror_mode": {
    "name": "ipython",
    "version": 3
   },
   "file_extension": ".py",
   "mimetype": "text/x-python",
   "name": "python",
   "nbconvert_exporter": "python",
   "pygments_lexer": "ipython3",
   "version": "3.9.1"
  }
 },
 "nbformat": 4,
 "nbformat_minor": 5
}
